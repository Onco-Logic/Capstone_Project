{
 "cells": [
  {
   "cell_type": "markdown",
   "id": "cf27919c",
   "metadata": {},
   "source": [
    "# Project - Modeling Complex Genomic Associations"
   ]
  },
  {
   "cell_type": "markdown",
   "id": "e2388251",
   "metadata": {},
   "source": [
    "\n",
    "### Import Necessary Python Packages"
   ]
  },
  {
   "cell_type": "code",
   "execution_count": null,
   "id": "d0f8d96c",
   "metadata": {},
   "outputs": [],
   "source": [
    "import numpy as np\n",
    "import pandas as pd\n",
    "import matplotlib.pyplot as plt\n",
    "import seaborn as sns\n",
    "\n",
    "from sklearn.cluster import KMeans\n",
    "from sklearn.preprocessing import StandardScaler\n",
    "from sklearn.decomposition import PCA\n",
    "\n",
    "from sklearn.model_selection import KFold\n",
    "from sklearn.tree import DecisionTreeClassifier\n",
    "from sklearn.ensemble import RandomForestClassifier\n",
    "from sklearn.metrics import accuracy_score, balanced_accuracy_score, precision_score, recall_score, f1_score"
   ]
  },
  {
   "cell_type": "markdown",
   "id": "5b737a9e",
   "metadata": {},
   "source": [
    "### Load 'data.csv' (the 'X' part of the dataset)"
   ]
  },
  {
   "cell_type": "code",
   "execution_count": null,
   "id": "a4765cbf",
   "metadata": {
    "scrolled": true
   },
   "outputs": [],
   "source": [
    "# Load tab-delimited text file into a DataFrame\n",
    "df_x = pd.read_csv('Data/cancer_subtype_data.csv')\n",
    "\n",
    "# Display the first few rows of the DataFrame\n",
    "print(\"First few rows of the DataFrame:\")\n",
    "df_x.head()"
   ]
  },
  {
   "cell_type": "markdown",
   "id": "bbef1113",
   "metadata": {},
   "source": [
    "### Load 'labels.csv' (the 'y' part of the dataset)"
   ]
  },
  {
   "cell_type": "code",
   "execution_count": null,
   "id": "6639f714",
   "metadata": {},
   "outputs": [],
   "source": [
    "# Load tab-delimited text file into a DataFrame\n",
    "df_y = pd.read_csv('Data/cancer_subtype_labels.csv')\n",
    "\n",
    "# Display the first few rows of the DataFrame\n",
    "print(\"First few rows of the DataFrame:\")\n",
    "df_y.head()"
   ]
  },
  {
   "cell_type": "code",
   "execution_count": null,
   "id": "d6fedba1",
   "metadata": {},
   "outputs": [],
   "source": [
    "df = pd.merge(df_x, df_y)\n",
    "df.head()"
   ]
  },
  {
   "cell_type": "code",
   "execution_count": null,
   "id": "13e5eac8",
   "metadata": {},
   "outputs": [],
   "source": [
    "df.shape"
   ]
  },
  {
   "cell_type": "markdown",
   "id": "6d336669",
   "metadata": {},
   "source": [
    "#### Drop the instance label column"
   ]
  },
  {
   "cell_type": "code",
   "execution_count": null,
   "id": "e4614bb8",
   "metadata": {},
   "outputs": [],
   "source": [
    "df = df.drop(df.columns[0], axis=1)\n",
    "df.head()"
   ]
  },
  {
   "cell_type": "code",
   "execution_count": null,
   "id": "bd38081c",
   "metadata": {},
   "outputs": [
    {
     "data": {
      "text/plain": [
       "gene_0        0\n",
       "gene_1        0\n",
       "gene_2        0\n",
       "gene_3        0\n",
       "gene_4        0\n",
       "             ..\n",
       "gene_20527    0\n",
       "gene_20528    0\n",
       "gene_20529    0\n",
       "gene_20530    0\n",
       "Class         0\n",
       "Length: 20532, dtype: int64"
      ]
     },
     "execution_count": 19,
     "metadata": {},
     "output_type": "execute_result"
    }
   ],
   "source": [
    "df.isna().sum().sum()"
   ]
  },
  {
   "cell_type": "markdown",
   "id": "5c19902b",
   "metadata": {},
   "source": [
    "## Basic Exploratory Analysis"
   ]
  },
  {
   "cell_type": "code",
   "execution_count": 17,
   "id": "aa2d4be1",
   "metadata": {
    "scrolled": true
   },
   "outputs": [
    {
     "name": "stdout",
     "output_type": "stream",
     "text": [
      "Class\n",
      "BRCA    300\n",
      "KIRC    146\n",
      "LUAD    141\n",
      "PRAD    136\n",
      "COAD     78\n",
      "Name: count, dtype: int64\n"
     ]
    },
    {
     "data": {
      "image/png": "[encoded data removed]",
      "text/plain": [
       "<Figure size 600x400 with 1 Axes>"
      ]
     },
     "metadata": {},
     "output_type": "display_data"
    }
   ],
   "source": [
    "# Choose the column for which you want to plot the counts\n",
    "column_name = 'Class'\n",
    "\n",
    "# Get the value counts for the specified column\n",
    "value_counts = df[column_name].value_counts()\n",
    "print(value_counts)\n",
    "\n",
    "# Plot the value counts using seaborn\n",
    "plt.figure(figsize=(6, 4))\n",
    "sns.barplot(x=value_counts.index, y=value_counts.values)\n",
    "plt.title(f'Counts of {column_name}')\n",
    "plt.xlabel(column_name)\n",
    "plt.ylabel('Count')\n",
    "plt.xticks(rotation=0)\n",
    "plt.show()"
   ]
  },
  {
   "cell_type": "code",
   "execution_count": null,
   "id": "77e795bb",
   "metadata": {
    "scrolled": true
   },
   "outputs": [],
   "source": [
    "# Missing Value Assessment\n",
    "\n",
    "# Group the DataFrame by the \"class\" column\n",
    "grouped_df = df.groupby('Class')\n",
    "\n",
    "# Calculate the sum of missing values in rows within each group\n",
    "missing_values_per_class = grouped_df.apply(lambda x: x.isnull().sum().sum())\n",
    "\n",
    "# Now 'missing_values_per_class' contains the sum of missing values for each class\n",
    "print(\"Sum of missing values for each class:\")\n",
    "print(missing_values_per_class)\n",
    "\n",
    "# Count missing values in dataset\n",
    "total_missing_values = df.isna().sum().sum()\n",
    "\n",
    "# Now 'total_missing_values' contains the total number of missing values in the DataFrame\n",
    "print(\"Total number of missing values:\", total_missing_values)"
   ]
  },
  {
   "cell_type": "markdown",
   "id": "270d0f51",
   "metadata": {},
   "source": [
    "### Cluster Analysis"
   ]
  },
  {
   "cell_type": "code",
   "execution_count": null,
   "id": "22d2e68e",
   "metadata": {},
   "outputs": [],
   "source": [
    "# Drop the class column for clustering\n",
    "df_x = df.drop(columns=['Class'])\n",
    "\n",
    "# Standardize the data\n",
    "scaler = StandardScaler()\n",
    "X_scaled = scaler.fit_transform(df_x)\n",
    "\n",
    "# Apply PCA for dimensionality reduction (optional)\n",
    "pca = PCA(n_components=2)\n",
    "X_pca = pca.fit_transform(X_scaled)\n",
    "\n",
    "# Apply KMeans clustering\n",
    "kmeans = KMeans(n_clusters=5, random_state=42)\n",
    "clusters = kmeans.fit_predict(X_scaled)\n",
    "\n",
    "# Visualize the clusters\n",
    "plt.figure(figsize=(8, 6))\n",
    "plt.scatter(X_pca[:, 0], X_pca[:, 1], c=clusters, cmap='viridis', marker='o', alpha=0.5)\n",
    "plt.xlabel('Principal Component 1')\n",
    "plt.ylabel('Principal Component 2')\n",
    "plt.title('KMeans Clustering')\n",
    "plt.colorbar(label='Cluster')\n",
    "plt.show()"
   ]
  },
  {
   "cell_type": "markdown",
   "id": "5fd64cbd",
   "metadata": {},
   "source": [
    "### Train and Evaluate Decision Tree Models (with 3-fold CV)"
   ]
  },
  {
   "cell_type": "code",
   "execution_count": null,
   "id": "a760824a",
   "metadata": {
    "scrolled": true
   },
   "outputs": [],
   "source": [
    "def train_model(model):\n",
    "    # Split data into features and target\n",
    "    X = df.drop(columns=['Class'])\n",
    "    y = df['Class']\n",
    "\n",
    "    # Initialize evaluation metrics lists\n",
    "    accuracies = []\n",
    "    balanced_accuracies = []\n",
    "    precisions = []\n",
    "    recalls = []\n",
    "    f1_scores = []\n",
    "\n",
    "    # Initialize KFold cross-validation\n",
    "    kf = KFold(n_splits=3, shuffle=True, random_state=42)\n",
    "    \n",
    "    # Iterate over each fold of cross-validation\n",
    "    for train_index, test_index in kf.split(X):\n",
    "        # Split data into train and test sets for this fold\n",
    "        X_train, X_test = X.iloc[train_index], X.iloc[test_index]\n",
    "        y_train, y_test = y.iloc[train_index], y.iloc[test_index]\n",
    "\n",
    "        model.fit(X_train, y_train)\n",
    "\n",
    "        # Predict on the testing data\n",
    "        y_pred = model.predict(X_test)\n",
    "\n",
    "        # Calculate evaluation metrics\n",
    "        accuracies.append(accuracy_score(y_test, y_pred))\n",
    "        balanced_accuracies.append(balanced_accuracy_score(y_test, y_pred))\n",
    "        precisions.append(precision_score(y_test, y_pred, average='weighted'))\n",
    "        recalls.append(recall_score(y_test, y_pred, average='weighted'))\n",
    "        f1_scores.append(f1_score(y_test, y_pred, average='weighted'))\n",
    "        \n",
    "\n",
    "    # Calculate average evaluation metrics\n",
    "    avg_accuracy = sum(accuracies) / len(accuracies)\n",
    "    avg_balanced_accuracy = sum(balanced_accuracies) / len(balanced_accuracies)\n",
    "    avg_precision = sum(precisions) / len(precisions)\n",
    "    avg_recall = sum(recalls) / len(recalls)\n",
    "    avg_f1 = sum(f1_scores) / len(f1_scores)\n",
    "\n",
    "    # Print summary of model performance\n",
    "    print(\"Average Accuracy:\", avg_accuracy)\n",
    "    print(\"Average Balanced Accuracy:\", avg_balanced_accuracy)\n",
    "    print(\"Average Precision:\", avg_precision)\n",
    "    print(\"Average Recall:\", avg_recall)\n",
    "    print(\"Average F1 Score:\", avg_f1)\n"
   ]
  },
  {
   "cell_type": "code",
   "execution_count": null,
   "id": "180698a4",
   "metadata": {
    "scrolled": true
   },
   "outputs": [],
   "source": [
    "# Train a decision tree model\n",
    "model = DecisionTreeClassifier()\n",
    "train_model(model)"
   ]
  },
  {
   "cell_type": "code",
   "execution_count": null,
   "id": "dcbc6d51",
   "metadata": {
    "scrolled": true
   },
   "outputs": [],
   "source": [
    "# Train a random forest model\n",
    "model = RandomForestClassifier()\n",
    "train_model(model)"
   ]
  },
  {
   "cell_type": "code",
   "execution_count": null,
   "id": "7f6e3a06",
   "metadata": {},
   "outputs": [],
   "source": []
  }
 ],
 "metadata": {
  "kernelspec": {
   "display_name": "base",
   "language": "python",
   "name": "python3"
  },
  "language_info": {
   "codemirror_mode": {
    "name": "ipython",
    "version": 3
   },
   "file_extension": ".py",
   "mimetype": "text/x-python",
   "name": "python",
   "nbconvert_exporter": "python",
   "pygments_lexer": "ipython3",
   "version": "3.12.7"
  }
 },
 "nbformat": 4,
 "nbformat_minor": 5
}
